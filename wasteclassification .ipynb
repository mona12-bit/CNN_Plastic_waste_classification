{
 "cells": [
  {
   "cell_type": "markdown",
   "metadata": {},
   "source": [
    "## Waste management using cnn model"
   ]
  },
  {
   "cell_type": "code",
   "execution_count": 1,
   "metadata": {},
   "outputs": [
    {
     "name": "stdout",
     "output_type": "stream",
     "text": [
      "Defaulting to user installation because normal site-packages is not writeable\n",
      "Collecting opencv-python\n",
      "  Downloading opencv_python-4.11.0.86-cp37-abi3-win_amd64.whl.metadata (20 kB)\n",
      "Requirement already satisfied: numpy>=1.21.2 in c:\\users\\om infotech\\appdata\\local\\packages\\pythonsoftwarefoundation.python.3.12_qbz5n2kfra8p0\\localcache\\local-packages\\python312\\site-packages (from opencv-python) (2.2.0)\n",
      "Downloading opencv_python-4.11.0.86-cp37-abi3-win_amd64.whl (39.5 MB)\n",
      "   ---------------------------------------- 0.0/39.5 MB ? eta -:--:--\n",
      "   ---------------------------------------- 0.3/39.5 MB ? eta -:--:--\n",
      "    --------------------------------------- 0.8/39.5 MB 3.7 MB/s eta 0:00:11\n",
      "   - -------------------------------------- 1.8/39.5 MB 3.7 MB/s eta 0:00:11\n",
      "   --- ------------------------------------ 3.1/39.5 MB 4.5 MB/s eta 0:00:09\n",
      "   --- ------------------------------------ 3.9/39.5 MB 4.3 MB/s eta 0:00:09\n",
      "   ---- ----------------------------------- 4.2/39.5 MB 4.0 MB/s eta 0:00:09\n",
      "   ---- ----------------------------------- 4.2/39.5 MB 4.0 MB/s eta 0:00:09\n",
      "   ---- ----------------------------------- 4.2/39.5 MB 4.0 MB/s eta 0:00:09\n",
      "   ---- ----------------------------------- 4.2/39.5 MB 4.0 MB/s eta 0:00:09\n",
      "   ---- ----------------------------------- 4.7/39.5 MB 2.5 MB/s eta 0:00:15\n",
      "   ----- ---------------------------------- 5.0/39.5 MB 2.3 MB/s eta 0:00:15\n",
      "   ----- ---------------------------------- 5.0/39.5 MB 2.3 MB/s eta 0:00:15\n",
      "   ----- ---------------------------------- 5.0/39.5 MB 2.3 MB/s eta 0:00:15\n",
      "   ----- ---------------------------------- 5.2/39.5 MB 1.9 MB/s eta 0:00:19\n",
      "   ----- ---------------------------------- 5.2/39.5 MB 1.9 MB/s eta 0:00:19\n",
      "   ------ --------------------------------- 6.0/39.5 MB 1.8 MB/s eta 0:00:19\n",
      "   ------ --------------------------------- 6.3/39.5 MB 1.8 MB/s eta 0:00:19\n",
      "   ------ --------------------------------- 6.8/39.5 MB 1.8 MB/s eta 0:00:18\n",
      "   ------- -------------------------------- 7.6/39.5 MB 1.9 MB/s eta 0:00:17\n",
      "   ------- -------------------------------- 7.9/39.5 MB 1.9 MB/s eta 0:00:17\n",
      "   -------- ------------------------------- 8.4/39.5 MB 1.9 MB/s eta 0:00:17\n",
      "   --------- ------------------------------ 8.9/39.5 MB 2.0 MB/s eta 0:00:16\n",
      "   --------- ------------------------------ 9.4/39.5 MB 2.0 MB/s eta 0:00:16\n",
      "   ---------- ----------------------------- 10.2/39.5 MB 2.0 MB/s eta 0:00:15\n",
      "   ---------- ----------------------------- 10.7/39.5 MB 2.1 MB/s eta 0:00:14\n",
      "   ----------- ---------------------------- 11.3/39.5 MB 2.1 MB/s eta 0:00:14\n",
      "   ----------- ---------------------------- 11.8/39.5 MB 2.1 MB/s eta 0:00:14\n",
      "   ------------ --------------------------- 12.3/39.5 MB 2.1 MB/s eta 0:00:13\n",
      "   ------------ --------------------------- 12.6/39.5 MB 2.1 MB/s eta 0:00:13\n",
      "   ------------- -------------------------- 13.4/39.5 MB 2.1 MB/s eta 0:00:13\n",
      "   -------------- ------------------------- 14.2/39.5 MB 2.2 MB/s eta 0:00:12\n",
      "   -------------- ------------------------- 14.7/39.5 MB 2.2 MB/s eta 0:00:12\n",
      "   --------------- ------------------------ 15.5/39.5 MB 2.2 MB/s eta 0:00:11\n",
      "   ---------------- ----------------------- 16.3/39.5 MB 2.3 MB/s eta 0:00:11\n",
      "   ----------------- ---------------------- 17.0/39.5 MB 2.3 MB/s eta 0:00:10\n",
      "   ------------------ --------------------- 17.8/39.5 MB 2.4 MB/s eta 0:00:10\n",
      "   ------------------ --------------------- 18.6/39.5 MB 2.4 MB/s eta 0:00:09\n",
      "   ------------------- -------------------- 19.4/39.5 MB 2.4 MB/s eta 0:00:09\n",
      "   -------------------- ------------------- 19.9/39.5 MB 2.4 MB/s eta 0:00:09\n",
      "   --------------------- ------------------ 21.0/39.5 MB 2.5 MB/s eta 0:00:08\n",
      "   --------------------- ------------------ 21.5/39.5 MB 2.5 MB/s eta 0:00:08\n",
      "   ---------------------- ----------------- 22.0/39.5 MB 2.5 MB/s eta 0:00:08\n",
      "   ----------------------- ---------------- 22.8/39.5 MB 2.5 MB/s eta 0:00:07\n",
      "   ----------------------- ---------------- 23.6/39.5 MB 2.5 MB/s eta 0:00:07\n",
      "   ------------------------ --------------- 24.4/39.5 MB 2.6 MB/s eta 0:00:06\n",
      "   ------------------------- -------------- 24.9/39.5 MB 2.6 MB/s eta 0:00:06\n",
      "   -------------------------- ------------- 25.7/39.5 MB 2.6 MB/s eta 0:00:06\n",
      "   -------------------------- ------------- 26.2/39.5 MB 2.6 MB/s eta 0:00:06\n",
      "   --------------------------- ------------ 27.0/39.5 MB 2.6 MB/s eta 0:00:05\n",
      "   --------------------------- ------------ 27.3/39.5 MB 2.6 MB/s eta 0:00:05\n",
      "   ---------------------------- ----------- 27.8/39.5 MB 2.6 MB/s eta 0:00:05\n",
      "   ---------------------------- ----------- 28.3/39.5 MB 2.6 MB/s eta 0:00:05\n",
      "   ----------------------------- ---------- 28.8/39.5 MB 2.6 MB/s eta 0:00:05\n",
      "   ----------------------------- ---------- 29.4/39.5 MB 2.6 MB/s eta 0:00:04\n",
      "   ------------------------------ --------- 30.1/39.5 MB 2.6 MB/s eta 0:00:04\n",
      "   ------------------------------- -------- 30.7/39.5 MB 2.6 MB/s eta 0:00:04\n",
      "   ------------------------------- -------- 31.5/39.5 MB 2.6 MB/s eta 0:00:04\n",
      "   -------------------------------- ------- 32.0/39.5 MB 2.6 MB/s eta 0:00:03\n",
      "   -------------------------------- ------- 32.5/39.5 MB 2.6 MB/s eta 0:00:03\n",
      "   --------------------------------- ------ 33.3/39.5 MB 2.6 MB/s eta 0:00:03\n",
      "   ---------------------------------- ----- 34.1/39.5 MB 2.6 MB/s eta 0:00:03\n",
      "   ----------------------------------- ---- 34.6/39.5 MB 2.6 MB/s eta 0:00:02\n",
      "   ----------------------------------- ---- 35.4/39.5 MB 2.7 MB/s eta 0:00:02\n",
      "   ------------------------------------ --- 35.9/39.5 MB 2.7 MB/s eta 0:00:02\n",
      "   ------------------------------------ --- 36.4/39.5 MB 2.6 MB/s eta 0:00:02\n",
      "   ------------------------------------- -- 37.0/39.5 MB 2.7 MB/s eta 0:00:01\n",
      "   -------------------------------------- - 37.7/39.5 MB 2.7 MB/s eta 0:00:01\n",
      "   -------------------------------------- - 38.3/39.5 MB 2.7 MB/s eta 0:00:01\n",
      "   ---------------------------------------  38.8/39.5 MB 2.7 MB/s eta 0:00:01\n",
      "   ---------------------------------------  39.3/39.5 MB 2.7 MB/s eta 0:00:01\n",
      "   ---------------------------------------  39.3/39.5 MB 2.7 MB/s eta 0:00:01\n",
      "   ---------------------------------------- 39.5/39.5 MB 2.6 MB/s eta 0:00:00\n",
      "Installing collected packages: opencv-python\n",
      "Successfully installed opencv-python-4.11.0.86\n",
      "Note: you may need to restart the kernel to use updated packages.\n"
     ]
    }
   ],
   "source": [
    "pip install opencv-python"
   ]
  },
  {
   "cell_type": "code",
   "execution_count": 6,
   "metadata": {},
   "outputs": [
    {
     "name": "stdout",
     "output_type": "stream",
     "text": [
      "Defaulting to user installation because normal site-packages is not writeable\n",
      "Requirement already satisfied: tensorflow in c:\\users\\om infotech\\appdata\\local\\packages\\pythonsoftwarefoundation.python.3.12_qbz5n2kfra8p0\\localcache\\local-packages\\python312\\site-packages (2.18.0)\n",
      "Requirement already satisfied: tensorflow-intel==2.18.0 in c:\\users\\om infotech\\appdata\\local\\packages\\pythonsoftwarefoundation.python.3.12_qbz5n2kfra8p0\\localcache\\local-packages\\python312\\site-packages (from tensorflow) (2.18.0)\n",
      "Requirement already satisfied: absl-py>=1.0.0 in c:\\users\\om infotech\\appdata\\local\\packages\\pythonsoftwarefoundation.python.3.12_qbz5n2kfra8p0\\localcache\\local-packages\\python312\\site-packages (from tensorflow-intel==2.18.0->tensorflow) (2.1.0)\n",
      "Requirement already satisfied: astunparse>=1.6.0 in c:\\users\\om infotech\\appdata\\local\\packages\\pythonsoftwarefoundation.python.3.12_qbz5n2kfra8p0\\localcache\\local-packages\\python312\\site-packages (from tensorflow-intel==2.18.0->tensorflow) (1.6.3)\n",
      "Requirement already satisfied: flatbuffers>=24.3.25 in c:\\users\\om infotech\\appdata\\local\\packages\\pythonsoftwarefoundation.python.3.12_qbz5n2kfra8p0\\localcache\\local-packages\\python312\\site-packages (from tensorflow-intel==2.18.0->tensorflow) (25.1.21)\n",
      "Requirement already satisfied: gast!=0.5.0,!=0.5.1,!=0.5.2,>=0.2.1 in c:\\users\\om infotech\\appdata\\local\\packages\\pythonsoftwarefoundation.python.3.12_qbz5n2kfra8p0\\localcache\\local-packages\\python312\\site-packages (from tensorflow-intel==2.18.0->tensorflow) (0.6.0)\n",
      "Requirement already satisfied: google-pasta>=0.1.1 in c:\\users\\om infotech\\appdata\\local\\packages\\pythonsoftwarefoundation.python.3.12_qbz5n2kfra8p0\\localcache\\local-packages\\python312\\site-packages (from tensorflow-intel==2.18.0->tensorflow) (0.2.0)\n",
      "Requirement already satisfied: libclang>=13.0.0 in c:\\users\\om infotech\\appdata\\local\\packages\\pythonsoftwarefoundation.python.3.12_qbz5n2kfra8p0\\localcache\\local-packages\\python312\\site-packages (from tensorflow-intel==2.18.0->tensorflow) (18.1.1)\n",
      "Requirement already satisfied: opt-einsum>=2.3.2 in c:\\users\\om infotech\\appdata\\local\\packages\\pythonsoftwarefoundation.python.3.12_qbz5n2kfra8p0\\localcache\\local-packages\\python312\\site-packages (from tensorflow-intel==2.18.0->tensorflow) (3.4.0)\n",
      "Requirement already satisfied: packaging in c:\\users\\om infotech\\appdata\\local\\packages\\pythonsoftwarefoundation.python.3.12_qbz5n2kfra8p0\\localcache\\local-packages\\python312\\site-packages (from tensorflow-intel==2.18.0->tensorflow) (24.2)\n",
      "Requirement already satisfied: protobuf!=4.21.0,!=4.21.1,!=4.21.2,!=4.21.3,!=4.21.4,!=4.21.5,<6.0.0dev,>=3.20.3 in c:\\users\\om infotech\\appdata\\local\\packages\\pythonsoftwarefoundation.python.3.12_qbz5n2kfra8p0\\localcache\\local-packages\\python312\\site-packages (from tensorflow-intel==2.18.0->tensorflow) (5.29.1)\n",
      "Requirement already satisfied: requests<3,>=2.21.0 in c:\\users\\om infotech\\appdata\\local\\packages\\pythonsoftwarefoundation.python.3.12_qbz5n2kfra8p0\\localcache\\local-packages\\python312\\site-packages (from tensorflow-intel==2.18.0->tensorflow) (2.32.3)\n",
      "Requirement already satisfied: setuptools in c:\\users\\om infotech\\appdata\\local\\packages\\pythonsoftwarefoundation.python.3.12_qbz5n2kfra8p0\\localcache\\local-packages\\python312\\site-packages (from tensorflow-intel==2.18.0->tensorflow) (69.1.0)\n",
      "Requirement already satisfied: six>=1.12.0 in c:\\users\\om infotech\\appdata\\local\\packages\\pythonsoftwarefoundation.python.3.12_qbz5n2kfra8p0\\localcache\\local-packages\\python312\\site-packages (from tensorflow-intel==2.18.0->tensorflow) (1.17.0)\n",
      "Requirement already satisfied: termcolor>=1.1.0 in c:\\users\\om infotech\\appdata\\local\\packages\\pythonsoftwarefoundation.python.3.12_qbz5n2kfra8p0\\localcache\\local-packages\\python312\\site-packages (from tensorflow-intel==2.18.0->tensorflow) (2.5.0)\n",
      "Requirement already satisfied: typing-extensions>=3.6.6 in c:\\users\\om infotech\\appdata\\local\\packages\\pythonsoftwarefoundation.python.3.12_qbz5n2kfra8p0\\localcache\\local-packages\\python312\\site-packages (from tensorflow-intel==2.18.0->tensorflow) (4.12.2)\n",
      "Requirement already satisfied: wrapt>=1.11.0 in c:\\users\\om infotech\\appdata\\local\\packages\\pythonsoftwarefoundation.python.3.12_qbz5n2kfra8p0\\localcache\\local-packages\\python312\\site-packages (from tensorflow-intel==2.18.0->tensorflow) (1.17.2)\n",
      "Requirement already satisfied: grpcio<2.0,>=1.24.3 in c:\\users\\om infotech\\appdata\\local\\packages\\pythonsoftwarefoundation.python.3.12_qbz5n2kfra8p0\\localcache\\local-packages\\python312\\site-packages (from tensorflow-intel==2.18.0->tensorflow) (1.69.0)\n",
      "Requirement already satisfied: tensorboard<2.19,>=2.18 in c:\\users\\om infotech\\appdata\\local\\packages\\pythonsoftwarefoundation.python.3.12_qbz5n2kfra8p0\\localcache\\local-packages\\python312\\site-packages (from tensorflow-intel==2.18.0->tensorflow) (2.18.0)\n",
      "Requirement already satisfied: keras>=3.5.0 in c:\\users\\om infotech\\appdata\\local\\packages\\pythonsoftwarefoundation.python.3.12_qbz5n2kfra8p0\\localcache\\local-packages\\python312\\site-packages (from tensorflow-intel==2.18.0->tensorflow) (3.8.0)\n",
      "Requirement already satisfied: numpy<2.1.0,>=1.26.0 in c:\\users\\om infotech\\appdata\\local\\packages\\pythonsoftwarefoundation.python.3.12_qbz5n2kfra8p0\\localcache\\local-packages\\python312\\site-packages (from tensorflow-intel==2.18.0->tensorflow) (2.0.2)\n",
      "Requirement already satisfied: h5py>=3.11.0 in c:\\users\\om infotech\\appdata\\local\\packages\\pythonsoftwarefoundation.python.3.12_qbz5n2kfra8p0\\localcache\\local-packages\\python312\\site-packages (from tensorflow-intel==2.18.0->tensorflow) (3.12.1)\n",
      "Requirement already satisfied: ml-dtypes<0.5.0,>=0.4.0 in c:\\users\\om infotech\\appdata\\local\\packages\\pythonsoftwarefoundation.python.3.12_qbz5n2kfra8p0\\localcache\\local-packages\\python312\\site-packages (from tensorflow-intel==2.18.0->tensorflow) (0.4.1)\n",
      "Requirement already satisfied: wheel<1.0,>=0.23.0 in c:\\users\\om infotech\\appdata\\local\\packages\\pythonsoftwarefoundation.python.3.12_qbz5n2kfra8p0\\localcache\\local-packages\\python312\\site-packages (from astunparse>=1.6.0->tensorflow-intel==2.18.0->tensorflow) (0.45.1)\n",
      "Requirement already satisfied: rich in c:\\users\\om infotech\\appdata\\local\\packages\\pythonsoftwarefoundation.python.3.12_qbz5n2kfra8p0\\localcache\\local-packages\\python312\\site-packages (from keras>=3.5.0->tensorflow-intel==2.18.0->tensorflow) (13.9.4)\n",
      "Requirement already satisfied: namex in c:\\users\\om infotech\\appdata\\local\\packages\\pythonsoftwarefoundation.python.3.12_qbz5n2kfra8p0\\localcache\\local-packages\\python312\\site-packages (from keras>=3.5.0->tensorflow-intel==2.18.0->tensorflow) (0.0.8)\n",
      "Requirement already satisfied: optree in c:\\users\\om infotech\\appdata\\local\\packages\\pythonsoftwarefoundation.python.3.12_qbz5n2kfra8p0\\localcache\\local-packages\\python312\\site-packages (from keras>=3.5.0->tensorflow-intel==2.18.0->tensorflow) (0.14.0)\n",
      "Requirement already satisfied: charset-normalizer<4,>=2 in c:\\users\\om infotech\\appdata\\local\\packages\\pythonsoftwarefoundation.python.3.12_qbz5n2kfra8p0\\localcache\\local-packages\\python312\\site-packages (from requests<3,>=2.21.0->tensorflow-intel==2.18.0->tensorflow) (3.4.0)\n",
      "Requirement already satisfied: idna<4,>=2.5 in c:\\users\\om infotech\\appdata\\local\\packages\\pythonsoftwarefoundation.python.3.12_qbz5n2kfra8p0\\localcache\\local-packages\\python312\\site-packages (from requests<3,>=2.21.0->tensorflow-intel==2.18.0->tensorflow) (3.10)\n",
      "Requirement already satisfied: urllib3<3,>=1.21.1 in c:\\users\\om infotech\\appdata\\local\\packages\\pythonsoftwarefoundation.python.3.12_qbz5n2kfra8p0\\localcache\\local-packages\\python312\\site-packages (from requests<3,>=2.21.0->tensorflow-intel==2.18.0->tensorflow) (2.2.3)\n",
      "Requirement already satisfied: certifi>=2017.4.17 in c:\\users\\om infotech\\appdata\\local\\packages\\pythonsoftwarefoundation.python.3.12_qbz5n2kfra8p0\\localcache\\local-packages\\python312\\site-packages (from requests<3,>=2.21.0->tensorflow-intel==2.18.0->tensorflow) (2024.12.14)\n",
      "Requirement already satisfied: markdown>=2.6.8 in c:\\users\\om infotech\\appdata\\local\\packages\\pythonsoftwarefoundation.python.3.12_qbz5n2kfra8p0\\localcache\\local-packages\\python312\\site-packages (from tensorboard<2.19,>=2.18->tensorflow-intel==2.18.0->tensorflow) (3.7)\n",
      "Requirement already satisfied: tensorboard-data-server<0.8.0,>=0.7.0 in c:\\users\\om infotech\\appdata\\local\\packages\\pythonsoftwarefoundation.python.3.12_qbz5n2kfra8p0\\localcache\\local-packages\\python312\\site-packages (from tensorboard<2.19,>=2.18->tensorflow-intel==2.18.0->tensorflow) (0.7.2)\n",
      "Requirement already satisfied: werkzeug>=1.0.1 in c:\\users\\om infotech\\appdata\\local\\packages\\pythonsoftwarefoundation.python.3.12_qbz5n2kfra8p0\\localcache\\local-packages\\python312\\site-packages (from tensorboard<2.19,>=2.18->tensorflow-intel==2.18.0->tensorflow) (3.1.3)\n",
      "Requirement already satisfied: MarkupSafe>=2.1.1 in c:\\users\\om infotech\\appdata\\local\\packages\\pythonsoftwarefoundation.python.3.12_qbz5n2kfra8p0\\localcache\\local-packages\\python312\\site-packages (from werkzeug>=1.0.1->tensorboard<2.19,>=2.18->tensorflow-intel==2.18.0->tensorflow) (3.0.2)\n",
      "Requirement already satisfied: markdown-it-py>=2.2.0 in c:\\users\\om infotech\\appdata\\local\\packages\\pythonsoftwarefoundation.python.3.12_qbz5n2kfra8p0\\localcache\\local-packages\\python312\\site-packages (from rich->keras>=3.5.0->tensorflow-intel==2.18.0->tensorflow) (3.0.0)\n",
      "Requirement already satisfied: pygments<3.0.0,>=2.13.0 in c:\\users\\om infotech\\appdata\\local\\packages\\pythonsoftwarefoundation.python.3.12_qbz5n2kfra8p0\\localcache\\local-packages\\python312\\site-packages (from rich->keras>=3.5.0->tensorflow-intel==2.18.0->tensorflow) (2.18.0)\n",
      "Requirement already satisfied: mdurl~=0.1 in c:\\users\\om infotech\\appdata\\local\\packages\\pythonsoftwarefoundation.python.3.12_qbz5n2kfra8p0\\localcache\\local-packages\\python312\\site-packages (from markdown-it-py>=2.2.0->rich->keras>=3.5.0->tensorflow-intel==2.18.0->tensorflow) (0.1.2)\n",
      "Note: you may need to restart the kernel to use updated packages.\n"
     ]
    }
   ],
   "source": [
    "pip install tensorflow"
   ]
  },
  {
   "cell_type": "code",
   "execution_count": 21,
   "metadata": {},
   "outputs": [],
   "source": [
    "# Implimenting Various Libraries\n",
    "import numpy as np\n",
    "import pandas as pd\n",
    "import cv2\n",
    "import warnings \n",
    "warnings.filterwarnings('ignore')\n",
    "from tqdm import tqdm\n",
    "from glob import glob\n"
   ]
  },
  {
   "cell_type": "code",
   "execution_count": 10,
   "metadata": {},
   "outputs": [
    {
     "name": "stdout",
     "output_type": "stream",
     "text": [
      "Defaulting to user installation because normal site-packages is not writeable\n",
      "Collecting matplotlib\n",
      "  Downloading matplotlib-3.10.0-cp312-cp312-win_amd64.whl.metadata (11 kB)\n",
      "Collecting contourpy>=1.0.1 (from matplotlib)\n",
      "  Downloading contourpy-1.3.1-cp312-cp312-win_amd64.whl.metadata (5.4 kB)\n",
      "Collecting cycler>=0.10 (from matplotlib)\n",
      "  Downloading cycler-0.12.1-py3-none-any.whl.metadata (3.8 kB)\n",
      "Collecting fonttools>=4.22.0 (from matplotlib)\n",
      "  Downloading fonttools-4.55.4-cp312-cp312-win_amd64.whl.metadata (169 kB)\n",
      "Collecting kiwisolver>=1.3.1 (from matplotlib)\n",
      "  Downloading kiwisolver-1.4.8-cp312-cp312-win_amd64.whl.metadata (6.3 kB)\n",
      "Requirement already satisfied: numpy>=1.23 in c:\\users\\om infotech\\appdata\\local\\packages\\pythonsoftwarefoundation.python.3.12_qbz5n2kfra8p0\\localcache\\local-packages\\python312\\site-packages (from matplotlib) (2.0.2)\n",
      "Requirement already satisfied: packaging>=20.0 in c:\\users\\om infotech\\appdata\\local\\packages\\pythonsoftwarefoundation.python.3.12_qbz5n2kfra8p0\\localcache\\local-packages\\python312\\site-packages (from matplotlib) (24.2)\n",
      "Requirement already satisfied: pillow>=8 in c:\\users\\om infotech\\appdata\\local\\packages\\pythonsoftwarefoundation.python.3.12_qbz5n2kfra8p0\\localcache\\local-packages\\python312\\site-packages (from matplotlib) (11.0.0)\n",
      "Collecting pyparsing>=2.3.1 (from matplotlib)\n",
      "  Downloading pyparsing-3.2.1-py3-none-any.whl.metadata (5.0 kB)\n",
      "Requirement already satisfied: python-dateutil>=2.7 in c:\\users\\om infotech\\appdata\\local\\packages\\pythonsoftwarefoundation.python.3.12_qbz5n2kfra8p0\\localcache\\local-packages\\python312\\site-packages (from matplotlib) (2.9.0.post0)\n",
      "Requirement already satisfied: six>=1.5 in c:\\users\\om infotech\\appdata\\local\\packages\\pythonsoftwarefoundation.python.3.12_qbz5n2kfra8p0\\localcache\\local-packages\\python312\\site-packages (from python-dateutil>=2.7->matplotlib) (1.17.0)\n",
      "Downloading matplotlib-3.10.0-cp312-cp312-win_amd64.whl (8.0 MB)\n",
      "   ---------------------------------------- 0.0/8.0 MB ? eta -:--:--\n",
      "   -- ------------------------------------- 0.5/8.0 MB 3.4 MB/s eta 0:00:03\n",
      "   --------- ------------------------------ 1.8/8.0 MB 4.4 MB/s eta 0:00:02\n",
      "   ------------- -------------------------- 2.6/8.0 MB 4.2 MB/s eta 0:00:02\n",
      "   --------------- ------------------------ 3.1/8.0 MB 4.3 MB/s eta 0:00:02\n",
      "   -------------------- ------------------- 4.2/8.0 MB 4.1 MB/s eta 0:00:01\n",
      "   -------------------- ------------------- 4.2/8.0 MB 4.1 MB/s eta 0:00:01\n",
      "   ---------------------- ----------------- 4.5/8.0 MB 3.4 MB/s eta 0:00:02\n",
      "   -------------------------- ------------- 5.2/8.0 MB 3.0 MB/s eta 0:00:01\n",
      "   ---------------------------- ----------- 5.8/8.0 MB 3.1 MB/s eta 0:00:01\n",
      "   -------------------------------- ------- 6.6/8.0 MB 3.1 MB/s eta 0:00:01\n",
      "   ----------------------------------- ---- 7.1/8.0 MB 3.1 MB/s eta 0:00:01\n",
      "   ---------------------------------------  7.9/8.0 MB 3.0 MB/s eta 0:00:01\n",
      "   ---------------------------------------- 8.0/8.0 MB 3.0 MB/s eta 0:00:00\n",
      "Downloading contourpy-1.3.1-cp312-cp312-win_amd64.whl (220 kB)\n",
      "Downloading cycler-0.12.1-py3-none-any.whl (8.3 kB)\n",
      "Downloading fonttools-4.55.4-cp312-cp312-win_amd64.whl (2.2 MB)\n",
      "   ---------------------------------------- 0.0/2.2 MB ? eta -:--:--\n",
      "   --------- ------------------------------ 0.5/2.2 MB 4.2 MB/s eta 0:00:01\n",
      "   ------------------ --------------------- 1.0/2.2 MB 2.6 MB/s eta 0:00:01\n",
      "   --------------------------------- ------ 1.8/2.2 MB 2.7 MB/s eta 0:00:01\n",
      "   ---------------------------------------- 2.2/2.2 MB 2.4 MB/s eta 0:00:00\n",
      "Downloading kiwisolver-1.4.8-cp312-cp312-win_amd64.whl (71 kB)\n",
      "Downloading pyparsing-3.2.1-py3-none-any.whl (107 kB)\n",
      "Installing collected packages: pyparsing, kiwisolver, fonttools, cycler, contourpy, matplotlib\n",
      "Successfully installed contourpy-1.3.1 cycler-0.12.1 fonttools-4.55.4 kiwisolver-1.4.8 matplotlib-3.10.0 pyparsing-3.2.1\n",
      "Note: you may need to restart the kernel to use updated packages.\n"
     ]
    }
   ],
   "source": [
    "pip install matplotlib\n"
   ]
  },
  {
   "cell_type": "code",
   "execution_count": 11,
   "metadata": {},
   "outputs": [],
   "source": [
    "import matplotlib.pyplot as plt\n"
   ]
  },
  {
   "cell_type": "code",
   "execution_count": 12,
   "metadata": {},
   "outputs": [],
   "source": [
    "test_path=\" DATASET\\DATASET\\DATASET\\TEST \"\n",
    "train_path=\"DATASET\\DATASET\\DATASET\\TRAIN\""
   ]
  },
  {
   "cell_type": "code",
   "execution_count": 15,
   "metadata": {},
   "outputs": [],
   "source": [
    "# Importing Libraries\n",
    "from tensorflow.keras.models import Sequential\n",
    "from tensorflow.keras.layers import MaxPooling2D,Activation,Dropout,Flatten,Dense,BatchNormalization\n",
    "from tensorflow.keras.preprocessing.image import ImageDataGenerator,img_to_array,load_img\n",
    "from tensorflow.keras.utils import plot_model\n",
    "import glob\n"
   ]
  },
  {
   "cell_type": "code",
   "execution_count": 16,
   "metadata": {},
   "outputs": [],
   "source": [
    "from tensorflow.keras.layers import Conv2D\n"
   ]
  },
  {
   "cell_type": "code",
   "execution_count": 22,
   "metadata": {},
   "outputs": [
    {
     "name": "stderr",
     "output_type": "stream",
     "text": [
      "100%|██████████| 12565/12565 [00:51<00:00, 246.10it/s]\n",
      "100%|██████████| 9999/9999 [00:42<00:00, 233.08it/s]\n"
     ]
    }
   ],
   "source": [
    "#Visualization \n",
    "x_data = []\n",
    "y_data = []\n",
    "for category in glob(train_path+'/*'):\n",
    "    for file in tqdm(glob (category+'/*')):\n",
    "        img_array = cv2.imread(file)\n",
    "        img_array = cv2.cvtColor(img_array,cv2.COLOR_BGR2RGB)\n",
    "        x_data.append(img_array)\n",
    "        y_data.append(category.split('/')[-1])\n",
    "\n",
    "data=pd.DataFrame({'image':x_data,'label':y_data})"
   ]
  },
  {
   "cell_type": "code",
   "execution_count": 31,
   "metadata": {},
   "outputs": [
    {
     "data": {
      "image/png": "[encoded data removed]",
      "text/plain": [
       "<Figure size 640x480 with 1 Axes>"
      ]
     },
     "metadata": {},
     "output_type": "display_data"
    }
   ],
   "source": [
    "data.shape\n",
    "colors =['#44FF07','#FB0007']\n",
    "plt.pie(data.label.value_counts(),labels=['Organic', 'Recyclable'] , startangle=90 , colors=colors,explode=[0,0.05], autopct='%0.2f%%')\n",
    "plt.show()\n"
   ]
  },
  {
   "cell_type": "code",
   "execution_count": null,
   "metadata": {},
   "outputs": [],
   "source": []
  }
 ],
 "metadata": {
  "kernelspec": {
   "display_name": "Python 3",
   "language": "python",
   "name": "python3"
  },
  "language_info": {
   "codemirror_mode": {
    "name": "ipython",
    "version": 3
   },
   "file_extension": ".py",
   "mimetype": "text/x-python",
   "name": "python",
   "nbconvert_exporter": "python",
   "pygments_lexer": "ipython3",
   "version": "3.12.2"
  }
 },
 "nbformat": 4,
 "nbformat_minor": 2
}
